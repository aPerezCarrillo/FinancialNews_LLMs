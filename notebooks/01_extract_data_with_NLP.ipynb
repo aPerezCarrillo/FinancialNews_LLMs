{
 "cells": [
  {
   "cell_type": "markdown",
   "id": "c3f85f3c-6c2a-4e1c-87af-b86e53583de9",
   "metadata": {},
   "source": [
    "# Extracting Information from Financial News Descriptions with Classical NLP\n",
    "\n",
    "In this notebook, we will explore how to extract meaningful information from news descriptions using **classical Natural Language Processing (NLP) tools**. More specifically, we will extract sentiment and company tickers (STOCK identifiers for companies found in the descriptions).\n",
    "Ticker extration can be regarded as NER/NEL task.\n",
    "We will use **Hugginface transformers library**.\n",
    "\n",
    "---\n",
    "- **Dataset**: https://www.kaggle.com/datasets/rdolphin/financial-news-with-ticker-level-sentiment/data?select=polygon_news_sample.json\n",
    "- **Sentiment Analysis**: https://huggingface.co/yiyanghkust/finbert-tone\n",
    "- **Ticker Extraction**: Regular expression. I tried with pre-trained NER models, but it does not detect the tickers.\n"
   ]
  },
  {
   "cell_type": "code",
   "execution_count": 1,
   "id": "356f5ec4-9c00-4f75-b9d3-712e636e1879",
   "metadata": {},
   "outputs": [
    {
     "name": "stderr",
     "output_type": "stream",
     "text": [
      "/Users/alfonzo/Library/Application Support/pipx/venvs/jupyterlab/lib/python3.12/site-packages/tqdm/auto.py:21: TqdmWarning: IProgress not found. Please update jupyter and ipywidgets. See https://ipywidgets.readthedocs.io/en/stable/user_install.html\n",
      "  from .autonotebook import tqdm as notebook_tqdm\n",
      "2025-02-28 17:15:22.362505: I tensorflow/core/platform/cpu_feature_guard.cc:210] This TensorFlow binary is optimized to use available CPU instructions in performance-critical operations.\n",
      "To enable the following instructions: AVX2 FMA, in other operations, rebuild TensorFlow with the appropriate compiler flags.\n"
     ]
    }
   ],
   "source": [
    "import os\n",
    "import json\n",
    "import pandas as pd\n",
    "from transformers import BertTokenizer, BertForSequenceClassification, pipeline\n",
    "import torch\n",
    "import re\n"
   ]
  },
  {
   "cell_type": "markdown",
   "id": "d38c2763-7dd6-41dd-80d0-af48a4c62efa",
   "metadata": {},
   "source": [
    "# Load dataset"
   ]
  },
  {
   "cell_type": "code",
   "execution_count": 28,
   "id": "04363ed3-6b4a-46e4-bd0c-3965f4344117",
   "metadata": {},
   "outputs": [],
   "source": [
    "# Load original dataset\n",
    "DATA_DIR = '../data/polygon'\n",
    "JSON_PATH = os.path.join(DATA_DIR, 'financial_news_with_ticker_level_sentiment.json')\n",
    "\n",
    "with open(JSON_PATH, 'r') as f:\n",
    "    data = json.load(f)\n",
    "\n",
    "original_df = pd.DataFrame(data)\n"
   ]
  },
  {
   "cell_type": "markdown",
   "id": "0e551c8a-96fd-4f58-b192-e13f3da156e5",
   "metadata": {},
   "source": [
    "# Sentiment Analysis"
   ]
  },
  {
   "cell_type": "markdown",
   "id": "e2d9620e-3a8b-4d6d-9487-538c10d1b728",
   "metadata": {},
   "source": [
    "## Load the pre-trained FinBERT model"
   ]
  },
  {
   "cell_type": "code",
   "execution_count": 3,
   "id": "4725e5ca-f70c-4ab1-9841-afcb6ecc2342",
   "metadata": {},
   "outputs": [
    {
     "name": "stderr",
     "output_type": "stream",
     "text": [
      "/Users/alfonzo/Library/Application Support/pipx/venvs/jupyterlab/lib/python3.12/site-packages/transformers/tokenization_utils_base.py:1601: FutureWarning: `clean_up_tokenization_spaces` was not set. It will be set to `True` by default. This behavior will be depracted in transformers v4.45, and will be then set to `False` by default. For more details check this issue: https://github.com/huggingface/transformers/issues/31884\n",
      "  warnings.warn(\n"
     ]
    }
   ],
   "source": [
    "# Load the pre-trained FinBERT model\n",
    "finbert_model_name = \"yiyanghkust/finbert-tone\"\n",
    "tokenizer = BertTokenizer.from_pretrained(finbert_model_name)\n",
    "finbert = BertForSequenceClassification.from_pretrained(finbert_model_name)\n",
    "nlp = pipeline(\"sentiment-analysis\", model=finbert, tokenizer=tokenizer)\n"
   ]
  },
  {
   "cell_type": "markdown",
   "id": "7bf1ea29-88ad-4f07-9d5e-83ff2713ba66",
   "metadata": {},
   "source": [
    "# Tickers extraction"
   ]
  },
  {
   "cell_type": "code",
   "execution_count": 4,
   "id": "520aec4c-aa7e-4973-8f1c-22d1839243b2",
   "metadata": {},
   "outputs": [],
   "source": [
    "def extract_tickers(text):\n",
    "    \"\"\"Extract stock tickers from a given text.\"\"\"\n",
    "    tickers = re.findall(r'\\b[A-Z]{2,5}\\b', text)  # Regex for uppercase word (2-5 chars)\n",
    "    return tickers\n"
   ]
  },
  {
   "cell_type": "markdown",
   "id": "3278436a-114e-4ca9-8b0d-c37dd8f81414",
   "metadata": {},
   "source": [
    "# Loop to extract sentiment and tickers"
   ]
  },
  {
   "cell_type": "code",
   "execution_count": 20,
   "id": "79440eb5-801d-4511-9c06-d966aec2272d",
   "metadata": {
    "scrolled": true
   },
   "outputs": [
    {
     "name": "stderr",
     "output_type": "stream",
     "text": [
      "Traceback (most recent call last):\n",
      "Exception ignored in: 'zmq.backend.cython.message.Frame.__dealloc__'\n",
      "Traceback (most recent call last):\n",
      "  File \"zmq/backend/cython/checkrc.pxd\", line 13, in zmq.backend.cython.checkrc._check_rc\n",
      "  File \"/Users/alfonzo/Library/Application Support/pipx/venvs/jupyterlab/lib/python3.12/site-packages/IPython/core/interactiveshell.py\", line 3577, in run_code\n",
      "    exec(code_obj, self.user_global_ns, self.user_ns)\n",
      "  File \"/var/folders/my/vcxzmhpd1l1f6bhyh61p0qqh0000gn/T/ipykernel_4291/1468769994.py\", line 9, in <module>\n",
      "    sentiment_results = nlp(news_text)\n",
      "                        ^^^^^^^^^^^^^^\n",
      "  File \"/Users/alfonzo/Library/Application Support/pipx/venvs/jupyterlab/lib/python3.12/site-packages/transformers/pipelines/token_classification.py\", line 248, in __call__\n",
      "    return super().__call__(inputs, **kwargs)\n",
      "           ^^^^^^^^^^^^^^^^^^^^^^^^^^^^^^^^^^\n",
      "  File \"/Users/alfonzo/Library/Application Support/pipx/venvs/jupyterlab/lib/python3.12/site-packages/transformers/pipelines/base.py\", line 1249, in __call__\n",
      "    return next(\n",
      "           ^^^^^\n",
      "  File \"/Users/alfonzo/Library/Application Support/pipx/venvs/jupyterlab/lib/python3.12/site-packages/transformers/pipelines/pt_utils.py\", line 124, in __next__\n",
      "    item = next(self.iterator)\n",
      "           ^^^^^^^^^^^^^^^^^^^\n",
      "  File \"/Users/alfonzo/Library/Application Support/pipx/venvs/jupyterlab/lib/python3.12/site-packages/transformers/pipelines/pt_utils.py\", line 269, in __next__\n",
      "    processed = self.infer(next(self.iterator), **self.params)\n",
      "                ^^^^^^^^^^^^^^^^^^^^^^^^^^^^^^^^^^^^^^^^^^^^^^\n",
      "  File \"/Users/alfonzo/Library/Application Support/pipx/venvs/jupyterlab/lib/python3.12/site-packages/transformers/pipelines/base.py\", line 1164, in forward\n",
      "    model_outputs = self._forward(model_inputs, **forward_params)\n",
      "                    ^^^^^^^^^^^^^^^^^^^^^^^^^^^^^^^^^^^^^^^^^^^^^\n",
      "  File \"/Users/alfonzo/Library/Application Support/pipx/venvs/jupyterlab/lib/python3.12/site-packages/transformers/pipelines/token_classification.py\", line 285, in _forward\n",
      "    output = self.model(**model_inputs)\n",
      "             ^^^^^^^^^^^^^^^^^^^^^^^^^^\n",
      "  File \"/Users/alfonzo/Library/Application Support/pipx/venvs/jupyterlab/lib/python3.12/site-packages/torch/nn/modules/module.py\", line 1511, in _wrapped_call_impl\n",
      "    return self._call_impl(*args, **kwargs)\n",
      "           ^^^^^^^^^^^^^^^^^^^^^^^^^^^^^^^^\n",
      "  File \"/Users/alfonzo/Library/Application Support/pipx/venvs/jupyterlab/lib/python3.12/site-packages/torch/nn/modules/module.py\", line 1520, in _call_impl\n",
      "    return forward_call(*args, **kwargs)\n",
      "           ^^^^^^^^^^^^^^^^^^^^^^^^^^^^^\n",
      "  File \"/Users/alfonzo/Library/Application Support/pipx/venvs/jupyterlab/lib/python3.12/site-packages/transformers/models/bert/modeling_bert.py\", line 1889, in forward\n",
      "    outputs = self.bert(\n",
      "              ^^^^^^^^^^\n",
      "  File \"/Users/alfonzo/Library/Application Support/pipx/venvs/jupyterlab/lib/python3.12/site-packages/torch/nn/modules/module.py\", line 1511, in _wrapped_call_impl\n",
      "    return self._call_impl(*args, **kwargs)\n",
      "           ^^^^^^^^^^^^^^^^^^^^^^^^^^^^^^^^\n",
      "  File \"/Users/alfonzo/Library/Application Support/pipx/venvs/jupyterlab/lib/python3.12/site-packages/torch/nn/modules/module.py\", KeyboardInterrupt: \n",
      "line 1520, in _call_impl\n",
      "    return forward_call(*args, **kwargs)\n",
      "           ^^^^^^^^^^^^^^^^^^^^^^^^^^^^^\n",
      "  File \"/Users/alfonzo/Library/Application Support/pipx/venvs/jupyterlab/lib/python3.12/site-packages/transformers/models/bert/modeling_bert.py\", line 1141, in forward\n",
      "    encoder_outputs = self.encoder(\n",
      "                      ^^^^^^^^^^^^^\n",
      "  File \"/Users/alfonzo/Library/Application Support/pipx/venvs/jupyterlab/lib/python3.12/site-packages/torch/nn/modules/module.py\", line 1511, in _wrapped_call_impl\n",
      "    return self._call_impl(*args, **kwargs)\n",
      "           ^^^^^^^^^^^^^^^^^^^^^^^^^^^^^^^^\n",
      "  File \"/Users/alfonzo/Library/Application Support/pipx/venvs/jupyterlab/lib/python3.12/site-packages/torch/nn/modules/module.py\", line 1520, in _call_impl\n",
      "    return forward_call(*args, **kwargs)\n",
      "           ^^^^^^^^^^^^^^^^^^^^^^^^^^^^^\n",
      "  File \"/Users/alfonzo/Library/Application Support/pipx/venvs/jupyterlab/lib/python3.12/site-packages/transformers/models/bert/modeling_bert.py\", line 694, in forward\n",
      "    layer_outputs = layer_module(\n",
      "                    ^^^^^^^^^^^^^\n",
      "  File \"/Users/alfonzo/Library/Application Support/pipx/venvs/jupyterlab/lib/python3.12/site-packages/torch/nn/modules/module.py\", line 1511, in _wrapped_call_impl\n",
      "    return self._call_impl(*args, **kwargs)\n",
      "           ^^^^^^^^^^^^^^^^^^^^^^^^^^^^^^^^\n",
      "  File \"/Users/alfonzo/Library/Application Support/pipx/venvs/jupyterlab/lib/python3.12/site-packages/torch/nn/modules/module.py\", line 1520, in _call_impl\n",
      "    return forward_call(*args, **kwargs)\n",
      "           ^^^^^^^^^^^^^^^^^^^^^^^^^^^^^\n",
      "  File \"/Users/alfonzo/Library/Application Support/pipx/venvs/jupyterlab/lib/python3.12/site-packages/transformers/models/bert/modeling_bert.py\", line 584, in forward\n",
      "    self_attention_outputs = self.attention(\n",
      "                             ^^^^^^^^^^^^^^^\n",
      "  File \"/Users/alfonzo/Library/Application Support/pipx/venvs/jupyterlab/lib/python3.12/site-packages/torch/nn/modules/module.py\", line 1511, in _wrapped_call_impl\n",
      "    return self._call_impl(*args, **kwargs)\n",
      "           ^^^^^^^^^^^^^^^^^^^^^^^^^^^^^^^^\n",
      "  File \"/Users/alfonzo/Library/Application Support/pipx/venvs/jupyterlab/lib/python3.12/site-packages/torch/nn/modules/module.py\", line 1520, in _call_impl\n",
      "    return forward_call(*args, **kwargs)\n",
      "           ^^^^^^^^^^^^^^^^^^^^^^^^^^^^^\n",
      "  File \"/Users/alfonzo/Library/Application Support/pipx/venvs/jupyterlab/lib/python3.12/site-packages/transformers/models/bert/modeling_bert.py\", line 514, in forward\n",
      "    self_outputs = self.self(\n",
      "                   ^^^^^^^^^^\n",
      "  File \"/Users/alfonzo/Library/Application Support/pipx/venvs/jupyterlab/lib/python3.12/site-packages/torch/nn/modules/module.py\", line 1511, in _wrapped_call_impl\n",
      "    return self._call_impl(*args, **kwargs)\n",
      "           ^^^^^^^^^^^^^^^^^^^^^^^^^^^^^^^^\n",
      "  File \"/Users/alfonzo/Library/Application Support/pipx/venvs/jupyterlab/lib/python3.12/site-packages/torch/nn/modules/module.py\", line 1520, in _call_impl\n",
      "    return forward_call(*args, **kwargs)\n",
      "           ^^^^^^^^^^^^^^^^^^^^^^^^^^^^^\n",
      "  File \"/Users/alfonzo/Library/Application Support/pipx/venvs/jupyterlab/lib/python3.12/site-packages/transformers/models/bert/modeling_bert.py\", line 407, in forward\n",
      "    key_layer = self.transpose_for_scores(self.key(current_states))\n",
      "                                          ^^^^^^^^^^^^^^^^^^^^^^^^\n",
      "  File \"/Users/alfonzo/Library/Application Support/pipx/venvs/jupyterlab/lib/python3.12/site-packages/torch/nn/modules/module.py\", line 1511, in _wrapped_call_impl\n",
      "    return self._call_impl(*args, **kwargs)\n",
      "           ^^^^^^^^^^^^^^^^^^^^^^^^^^^^^^^^\n",
      "  File \"/Users/alfonzo/Library/Application Support/pipx/venvs/jupyterlab/lib/python3.12/site-packages/torch/nn/modules/module.py\", line 1520, in _call_impl\n",
      "    return forward_call(*args, **kwargs)\n",
      "           ^^^^^^^^^^^^^^^^^^^^^^^^^^^^^\n",
      "  File \"/Users/alfonzo/Library/Application Support/pipx/venvs/jupyterlab/lib/python3.12/site-packages/torch/nn/modules/linear.py\", line 116, in forward\n",
      "    return F.linear(input, self.weight, self.bias)\n",
      "           ^^^^^^^^^^^^^^^^^^^^^^^^^^^^^^^^^^^^^^^\n",
      "KeyboardInterrupt\n",
      "\n",
      "During handling of the above exception, another exception occurred:\n",
      "\n",
      "Traceback (most recent call last):\n",
      "  File \"zmq/backend/cython/checkrc.pxd\", line 13, in zmq.backend.cython.checkrc._check_rc\n",
      "KeyboardInterrupt\n",
      "\n",
      "KeyboardInterrupt\n",
      "\n"
     ]
    }
   ],
   "source": [
    "# Prepare the list for storing the extracted data\n",
    "extracted_data = []\n",
    "\n",
    "# Loop through the rows of the dataset\n",
    "for index, row in df.iterrows():\n",
    "    news_text = row['description']  # Assuming 'description' is the column with text\n",
    "    \n",
    "    # Extract sentiment using FinBERT\n",
    "    sentiment_results = nlp(news_text)\n",
    "    sentiment = sentiment_results[0]['entity']  # Extracting sentiment (POSITIVE/NEGATIVE/NEUTRAL)\n",
    "    \n",
    "    # Extract tickers using the function defined above\n",
    "    tickers = extract_tickers(news_text)\n",
    "    \n",
    "    # Create the structured output\n",
    "    extracted_data.append({\n",
    "        \"id\": row['id'],  # Use the 'id' from the original dataset to link the data\n",
    "        \"description\": news_text,\n",
    "        \"sentiment\": sentiment,\n",
    "        \"tickers\": tickers,\n",
    "        #\"author\": row['author'],\n",
    "        #\"published_utc\": row['published_utc'],\n",
    "        #\"publisher\": row['publisher']\n",
    "    })\n",
    "\n",
    "# Convert the extracted data to a DataFrame\n",
    "extracted_df = pd.DataFrame(extracted_data)"
   ]
  },
  {
   "cell_type": "code",
   "execution_count": 21,
   "id": "bb8fa175-03fe-4b91-ad27-2adcedd6b238",
   "metadata": {},
   "outputs": [
    {
     "data": {
      "text/html": [
       "<div>\n",
       "<style scoped>\n",
       "    .dataframe tbody tr th:only-of-type {\n",
       "        vertical-align: middle;\n",
       "    }\n",
       "\n",
       "    .dataframe tbody tr th {\n",
       "        vertical-align: top;\n",
       "    }\n",
       "\n",
       "    .dataframe thead th {\n",
       "        text-align: right;\n",
       "    }\n",
       "</style>\n",
       "<table border=\"1\" class=\"dataframe\">\n",
       "  <thead>\n",
       "    <tr style=\"text-align: right;\">\n",
       "      <th></th>\n",
       "      <th>id</th>\n",
       "      <th>description</th>\n",
       "      <th>sentiment</th>\n",
       "      <th>tickers</th>\n",
       "      <th>author</th>\n",
       "      <th>published_utc</th>\n",
       "      <th>publisher</th>\n",
       "    </tr>\n",
       "  </thead>\n",
       "  <tbody>\n",
       "    <tr>\n",
       "      <th>0</th>\n",
       "      <td>0</td>\n",
       "      <td>Allegiant Travel (ALGT) is a fast-moving stock...</td>\n",
       "      <td>Negative</td>\n",
       "      <td>[ALGT, ALGT]</td>\n",
       "      <td>Zacks.com</td>\n",
       "      <td>2023-06-29T12:50:06Z</td>\n",
       "      <td>{'name': 'Zacks Investment Research', 'homepag...</td>\n",
       "    </tr>\n",
       "    <tr>\n",
       "      <th>1</th>\n",
       "      <td>1</td>\n",
       "      <td>Applied Industrial Technologies (AIT) reported...</td>\n",
       "      <td>Negative</td>\n",
       "      <td>[AIT]</td>\n",
       "      <td>Zacks.com</td>\n",
       "      <td>2023-04-27T11:55:14Z</td>\n",
       "      <td>{'name': 'Zacks Investment Research', 'homepag...</td>\n",
       "    </tr>\n",
       "    <tr>\n",
       "      <th>2</th>\n",
       "      <td>2</td>\n",
       "      <td>Apollo Commercial Real Estate Finance, Inc. (A...</td>\n",
       "      <td>Negative</td>\n",
       "      <td>[ARI, ARI]</td>\n",
       "      <td>N/A</td>\n",
       "      <td>2023-03-06T13:30:00Z</td>\n",
       "      <td>{'name': 'GlobeNewswire Inc.', 'homepage_url':...</td>\n",
       "    </tr>\n",
       "    <tr>\n",
       "      <th>3</th>\n",
       "      <td>3</td>\n",
       "      <td>Maravai LifeSciences, a global provider of lif...</td>\n",
       "      <td>Negative</td>\n",
       "      <td>[CEO, CFO]</td>\n",
       "      <td>N/A</td>\n",
       "      <td>2023-11-09T13:15:00Z</td>\n",
       "      <td>{'name': 'GlobeNewswire Inc.', 'homepage_url':...</td>\n",
       "    </tr>\n",
       "    <tr>\n",
       "      <th>4</th>\n",
       "      <td>4</td>\n",
       "      <td>DHT Holdings, an independent oil tanker compan...</td>\n",
       "      <td>Negative</td>\n",
       "      <td>[DHT, DHT]</td>\n",
       "      <td>Zacks Equity Research</td>\n",
       "      <td>2023-03-22T22:00:25Z</td>\n",
       "      <td>{'name': 'Zacks Investment Research', 'homepag...</td>\n",
       "    </tr>\n",
       "    <tr>\n",
       "      <th>...</th>\n",
       "      <td>...</td>\n",
       "      <td>...</td>\n",
       "      <td>...</td>\n",
       "      <td>...</td>\n",
       "      <td>...</td>\n",
       "      <td>...</td>\n",
       "      <td>...</td>\n",
       "    </tr>\n",
       "    <tr>\n",
       "      <th>5543</th>\n",
       "      <td>5543</td>\n",
       "      <td>The article compares AT&amp;T and Intel as potenti...</td>\n",
       "      <td>Neutral</td>\n",
       "      <td>[AT]</td>\n",
       "      <td>Parkev Tatevosian, CFA</td>\n",
       "      <td>2023-01-30T14:38:04Z</td>\n",
       "      <td>{'name': 'The Motley Fool', 'homepage_url': 'h...</td>\n",
       "    </tr>\n",
       "    <tr>\n",
       "      <th>5544</th>\n",
       "      <td>5544</td>\n",
       "      <td>Zai Lab's new drug application for sulbactam-d...</td>\n",
       "      <td>Negative</td>\n",
       "      <td>[SUL, DUR]</td>\n",
       "      <td>N/A</td>\n",
       "      <td>2023-01-30T12:30:00Z</td>\n",
       "      <td>{'name': 'GlobeNewswire Inc.', 'homepage_url':...</td>\n",
       "    </tr>\n",
       "    <tr>\n",
       "      <th>5545</th>\n",
       "      <td>5545</td>\n",
       "      <td>Terreno Realty is witnessing healthy demand fo...</td>\n",
       "      <td>Negative</td>\n",
       "      <td>[]</td>\n",
       "      <td>N/A</td>\n",
       "      <td>2023-01-24T15:19:00Z</td>\n",
       "      <td>{'name': 'Zacks Investment Research', 'homepag...</td>\n",
       "    </tr>\n",
       "    <tr>\n",
       "      <th>5546</th>\n",
       "      <td>5546</td>\n",
       "      <td>NextCure and Nordic Bioscience published a rev...</td>\n",
       "      <td>Negative</td>\n",
       "      <td>[]</td>\n",
       "      <td>NextCure, Inc.</td>\n",
       "      <td>2023-09-07T20:05:00Z</td>\n",
       "      <td>{'name': 'GlobeNewswire Inc.', 'homepage_url':...</td>\n",
       "    </tr>\n",
       "    <tr>\n",
       "      <th>5547</th>\n",
       "      <td>5547</td>\n",
       "      <td>Broadwind, Inc. announced that its stockholder...</td>\n",
       "      <td>Negative</td>\n",
       "      <td>[]</td>\n",
       "      <td>N/A</td>\n",
       "      <td>2023-05-23T22:30:00Z</td>\n",
       "      <td>{'name': 'GlobeNewswire Inc.', 'homepage_url':...</td>\n",
       "    </tr>\n",
       "  </tbody>\n",
       "</table>\n",
       "<p>5548 rows × 7 columns</p>\n",
       "</div>"
      ],
      "text/plain": [
       "        id                                        description sentiment  \\\n",
       "0        0  Allegiant Travel (ALGT) is a fast-moving stock...  Negative   \n",
       "1        1  Applied Industrial Technologies (AIT) reported...  Negative   \n",
       "2        2  Apollo Commercial Real Estate Finance, Inc. (A...  Negative   \n",
       "3        3  Maravai LifeSciences, a global provider of lif...  Negative   \n",
       "4        4  DHT Holdings, an independent oil tanker compan...  Negative   \n",
       "...    ...                                                ...       ...   \n",
       "5543  5543  The article compares AT&T and Intel as potenti...   Neutral   \n",
       "5544  5544  Zai Lab's new drug application for sulbactam-d...  Negative   \n",
       "5545  5545  Terreno Realty is witnessing healthy demand fo...  Negative   \n",
       "5546  5546  NextCure and Nordic Bioscience published a rev...  Negative   \n",
       "5547  5547  Broadwind, Inc. announced that its stockholder...  Negative   \n",
       "\n",
       "           tickers                  author         published_utc  \\\n",
       "0     [ALGT, ALGT]               Zacks.com  2023-06-29T12:50:06Z   \n",
       "1            [AIT]               Zacks.com  2023-04-27T11:55:14Z   \n",
       "2       [ARI, ARI]                     N/A  2023-03-06T13:30:00Z   \n",
       "3       [CEO, CFO]                     N/A  2023-11-09T13:15:00Z   \n",
       "4       [DHT, DHT]   Zacks Equity Research  2023-03-22T22:00:25Z   \n",
       "...            ...                     ...                   ...   \n",
       "5543          [AT]  Parkev Tatevosian, CFA  2023-01-30T14:38:04Z   \n",
       "5544    [SUL, DUR]                     N/A  2023-01-30T12:30:00Z   \n",
       "5545            []                     N/A  2023-01-24T15:19:00Z   \n",
       "5546            []          NextCure, Inc.  2023-09-07T20:05:00Z   \n",
       "5547            []                     N/A  2023-05-23T22:30:00Z   \n",
       "\n",
       "                                              publisher  \n",
       "0     {'name': 'Zacks Investment Research', 'homepag...  \n",
       "1     {'name': 'Zacks Investment Research', 'homepag...  \n",
       "2     {'name': 'GlobeNewswire Inc.', 'homepage_url':...  \n",
       "3     {'name': 'GlobeNewswire Inc.', 'homepage_url':...  \n",
       "4     {'name': 'Zacks Investment Research', 'homepag...  \n",
       "...                                                 ...  \n",
       "5543  {'name': 'The Motley Fool', 'homepage_url': 'h...  \n",
       "5544  {'name': 'GlobeNewswire Inc.', 'homepage_url':...  \n",
       "5545  {'name': 'Zacks Investment Research', 'homepag...  \n",
       "5546  {'name': 'GlobeNewswire Inc.', 'homepage_url':...  \n",
       "5547  {'name': 'GlobeNewswire Inc.', 'homepage_url':...  \n",
       "\n",
       "[5548 rows x 7 columns]"
      ]
     },
     "execution_count": 21,
     "metadata": {},
     "output_type": "execute_result"
    }
   ],
   "source": [
    "extracted_df"
   ]
  },
  {
   "cell_type": "code",
   "execution_count": 24,
   "id": "7dade516-6e58-464d-8ee9-7ca9821e947f",
   "metadata": {},
   "outputs": [],
   "source": [
    "extracted_df.drop(['author', 'published_utc', 'publisher'], axis=1,inplace=True)"
   ]
  },
  {
   "cell_type": "code",
   "execution_count": 26,
   "id": "e4a757b3-f2a5-4164-8a97-e9beccb2678c",
   "metadata": {},
   "outputs": [
    {
     "data": {
      "text/plain": [
       "Index(['id', 'description', 'sentiment', 'tickers'], dtype='object')"
      ]
     },
     "execution_count": 26,
     "metadata": {},
     "output_type": "execute_result"
    }
   ],
   "source": [
    "extracted_df.columns"
   ]
  },
  {
   "cell_type": "markdown",
   "id": "ad799713-f90f-4e6c-82ee-08e4dad807e2",
   "metadata": {},
   "source": [
    "## Save extracted data"
   ]
  },
  {
   "cell_type": "code",
   "execution_count": 25,
   "id": "27c7c596-be29-4e0e-93fc-43c182601fd2",
   "metadata": {},
   "outputs": [
    {
     "name": "stdout",
     "output_type": "stream",
     "text": [
      "Extracted data saved to ../data/polygon/extracted_sentiment_and_tickers_finbert.json\n"
     ]
    }
   ],
   "source": [
    "# Save the extracted data to a JSON file for later evaluation\n",
    "extracted_json_path = os.path.join(DATA_DIR, 'extracted_sentiment_and_tickers_finbert.json')\n",
    "extracted_df.to_json(extracted_json_path, orient='records', lines=True)\n",
    "\n",
    "print(f\"Extracted data saved to {extracted_json_path}\")"
   ]
  },
  {
   "cell_type": "markdown",
   "id": "4c09b8ca-1857-4942-8003-59d8fd0902b3",
   "metadata": {},
   "source": [
    "# Evaluate extracted data"
   ]
  },
  {
   "cell_type": "markdown",
   "id": "1870fc9f-7289-4774-83c1-36609f16d08f",
   "metadata": {},
   "source": [
    "Since the new extraction approach assigns a single sentiment per news article, while the original dataset has sentiment per ticker, we need to compare them in a way that makes sense. \n",
    "Original Sentiment Averaging:\n",
    "\n",
    "    Each news article in original_df has multiple tickers, each with its own sentiment.\n",
    "    Convert \"positive\", \"neutral\", and \"negative\" to numeric values (1, 0, -1).\n",
    "    Compute the average sentiment across tickers for each article."
   ]
  },
  {
   "cell_type": "code",
   "execution_count": 47,
   "id": "9f4b0fa0-a411-474d-bd9a-45fd36a72e01",
   "metadata": {},
   "outputs": [
    {
     "name": "stderr",
     "output_type": "stream",
     "text": [
      "/var/folders/my/vcxzmhpd1l1f6bhyh61p0qqh0000gn/T/ipykernel_4291/4030117785.py:12: RuntimeWarning: Mean of empty slice\n",
      "  return np.nanmean(sentiments) if sentiments else np.nan  # Avoid empty lists\n"
     ]
    }
   ],
   "source": [
    "from sklearn.metrics import classification_report\n",
    "import numpy as np\n",
    "import matplotlib.pyplot as plt\n",
    "import seaborn as sns\n",
    "\n",
    "# Convert sentiments in original dataset to numeric values\n",
    "sentiment_mapping = {\"positive\": 1, \"neutral\": 0, \"negative\": -1}\n",
    "\n",
    "# Extract and average sentiments for each article in original_df\n",
    "def average_original_sentiment(row):\n",
    "    sentiments = [sentiment_mapping.get(insight[\"sentiment\"], np.nan) for insight in row[\"insights\"]]\n",
    "    return np.nanmean(sentiments) if sentiments else np.nan  # Avoid empty lists\n",
    "\n",
    "original_df[\"avg_sentiment\"] = original_df.apply(average_original_sentiment, axis=1)\n",
    "\n",
    "# Map extracted_df sentiments to numeric values\n",
    "extracted_df[\"sentiment_numeric\"] = extracted_df['sentiment'].apply(lambda x: x.lower())\n",
    "extracted_df[\"sentiment_numeric\"]= extracted_df[\"sentiment_numeric\"].map(sentiment_mapping)"
   ]
  },
  {
   "cell_type": "code",
   "execution_count": 48,
   "id": "72a3e1f5-5f2a-47c4-8924-bfa92c4a4899",
   "metadata": {},
   "outputs": [
    {
     "name": "stdout",
     "output_type": "stream",
     "text": [
      "📊 Sentiment Correlation: -0.04\n"
     ]
    },
    {
     "data": {
      "image/png": "[encoded data removed]",
      "text/plain": [
       "<Figure size 800x600 with 1 Axes>"
      ]
     },
     "metadata": {},
     "output_type": "display_data"
    }
   ],
   "source": [
    "# Merge both datasets on 'id'\n",
    "comparison_df = original_df[[\"id\", \"avg_sentiment\"]].merge(\n",
    "    extracted_df[[\"id\", \"sentiment_numeric\"]], on=\"id\", how=\"inner\"\n",
    ")\n",
    "\n",
    "# Drop NaNs (if any)\n",
    "comparison_df = comparison_df.dropna()\n",
    "\n",
    "# Compute correlation between extracted and original sentiments\n",
    "correlation = np.corrcoef(comparison_df[\"avg_sentiment\"], comparison_df[\"sentiment_numeric\"])[0, 1]\n",
    "print(f\"📊 Sentiment Correlation: {correlation:.2f}\")\n",
    "\n",
    "# Plot a scatter plot to visualize sentiment agreement\n",
    "plt.figure(figsize=(8, 6))\n",
    "sns.scatterplot(x=comparison_df[\"avg_sentiment\"], y=comparison_df[\"sentiment_numeric\"], alpha=0.5)\n",
    "plt.xlabel(\"Original Avg Sentiment\")\n",
    "plt.ylabel(\"Extracted Sentiment\")\n",
    "plt.title(\"Sentiment Comparison Scatter Plot\")\n",
    "plt.axhline(0, color=\"gray\", linestyle=\"--\", alpha=0.5)\n",
    "plt.axvline(0, color=\"gray\", linestyle=\"--\", alpha=0.5)\n",
    "plt.show()\n",
    "\n"
   ]
  },
  {
   "cell_type": "markdown",
   "id": "d4a436c2-3db4-4a51-b6ab-0169cd543a2b",
   "metadata": {},
   "source": [
    "## Sentiment Classification Report"
   ]
  },
  {
   "cell_type": "code",
   "execution_count": 49,
   "id": "2ed56d0c-8d51-424c-814a-bc52b4451a79",
   "metadata": {},
   "outputs": [
    {
     "name": "stdout",
     "output_type": "stream",
     "text": [
      "\n",
      "📊 **Sentiment Classification Report:**\n",
      "              precision    recall  f1-score   support\n",
      "\n",
      "          -1       0.07      0.62      0.13       425\n",
      "           0       0.32      0.26      0.28      1903\n",
      "           1       0.47      0.08      0.13      3217\n",
      "\n",
      "    accuracy                           0.18      5545\n",
      "   macro avg       0.29      0.32      0.18      5545\n",
      "weighted avg       0.39      0.18      0.18      5545\n",
      "\n"
     ]
    }
   ],
   "source": [
    "# Print classification report after rounding original sentiments\n",
    "comparison_df[\"rounded_original_sentiment\"] = comparison_df[\"avg_sentiment\"].round().astype(int)\n",
    "print(\"\\n📊 **Sentiment Classification Report:**\")\n",
    "print(classification_report(comparison_df[\"rounded_original_sentiment\"], comparison_df[\"sentiment_numeric\"], zero_division=0))\n",
    "\n"
   ]
  },
  {
   "cell_type": "code",
   "execution_count": 59,
   "id": "a11d2854-81a6-483c-a497-4d5204ce6287",
   "metadata": {},
   "outputs": [],
   "source": [
    "## Ticker Extraction Performance"
   ]
  },
  {
   "cell_type": "code",
   "execution_count": 55,
   "id": "3086a4d6-7a4e-4d4a-9883-1a036cedfeb3",
   "metadata": {},
   "outputs": [
    {
     "name": "stdout",
     "output_type": "stream",
     "text": [
      "📊 **Ticker Extraction Performance:**\n",
      "✅ Average Precision: 0.25\n",
      "✅ Average Recall: 0.24\n",
      "✅ Average F1-score: 0.23\n"
     ]
    },
    {
     "data": {
      "image/png": "[encoded data removed]",
      "text/plain": [
       "<Figure size 800x600 with 1 Axes>"
      ]
     },
     "metadata": {},
     "output_type": "display_data"
    }
   ],
   "source": [
    "from sklearn.metrics import precision_score, recall_score, f1_score\n",
    "import numpy as np\n",
    "import matplotlib.pyplot as plt\n",
    "import seaborn as sns\n",
    "\n",
    "# Ensure tickers are uppercase and stored as sets\n",
    "original_df[\"tickers_set\"] = original_df[\"tickers\"].apply(lambda x: set(map(str.upper, x)) if isinstance(x, list) else set())\n",
    "extracted_df[\"tickers_set\"] = extracted_df[\"tickers\"].apply(lambda x: set(map(str.upper, x)) if isinstance(x, list) else set())\n",
    "\n",
    "# Merge the datasets on 'id'\n",
    "comparison_df = original_df[[\"id\", \"tickers_set\"]].merge(\n",
    "    extracted_df[[\"id\", \"tickers_set\"]], on=\"id\", how=\"inner\"\n",
    ")\n",
    "\n",
    "# Compute precision, recall, and F1-score per row\n",
    "def compute_ticker_metrics(row):\n",
    "    original_tickers = row[\"tickers_set_x\"]\n",
    "    extracted_tickers = row[\"tickers_set_y\"]  # From extracted_df\n",
    "    \n",
    "    if not original_tickers and not extracted_tickers:\n",
    "        return (1, 1, 1)  # If both are empty, perfect match\n",
    "    \n",
    "    if not extracted_tickers:\n",
    "        return (0, 0, 0)  # No tickers found in extraction\n",
    "    \n",
    "    true_positives = len(original_tickers & extracted_tickers)  # Correctly matched tickers\n",
    "    precision = true_positives / len(extracted_tickers) if extracted_tickers else 0\n",
    "    recall = true_positives / len(original_tickers) if original_tickers else 0\n",
    "    f1 = 2 * (precision * recall) / (precision + recall) if precision + recall > 0 else 0\n",
    "    \n",
    "    return (precision, recall, f1)\n",
    "\n",
    "# Apply metric calculation\n",
    "comparison_df[[\"precision\", \"recall\", \"f1\"]] = comparison_df.apply(compute_ticker_metrics, axis=1, result_type=\"expand\")\n",
    "\n",
    "# Compute overall average scores\n",
    "avg_precision = comparison_df[\"precision\"].mean()\n",
    "avg_recall = comparison_df[\"recall\"].mean()\n",
    "avg_f1 = comparison_df[\"f1\"].mean()\n",
    "\n",
    "print(f\"📊 **Ticker Extraction Performance:**\")\n",
    "print(f\"✅ Average Precision: {avg_precision:.2f}\")\n",
    "print(f\"✅ Average Recall: {avg_recall:.2f}\")\n",
    "print(f\"✅ Average F1-score: {avg_f1:.2f}\")\n",
    "\n",
    "# Plot a histogram of per-article F1 scores\n",
    "plt.figure(figsize=(8, 6))\n",
    "sns.histplot(comparison_df[\"f1\"], bins=20, kde=True, color=\"blue\")\n",
    "plt.xlabel(\"F1 Score\")\n",
    "plt.ylabel(\"Frequency\")\n",
    "plt.title(\"Histogram of Ticker Extraction F1 Scores\")\n",
    "plt.show()\n"
   ]
  },
  {
   "cell_type": "code",
   "execution_count": null,
   "id": "24f735b7-2d80-46d6-96de-162ef85f9269",
   "metadata": {},
   "outputs": [],
   "source": []
  }
 ],
 "metadata": {
  "kernelspec": {
   "display_name": "Python 3 (ipykernel)",
   "language": "python",
   "name": "python3"
  },
  "language_info": {
   "codemirror_mode": {
    "name": "ipython",
    "version": 3
   },
   "file_extension": ".py",
   "mimetype": "text/x-python",
   "name": "python",
   "nbconvert_exporter": "python",
   "pygments_lexer": "ipython3",
   "version": "3.12.2"
  }
 },
 "nbformat": 4,
 "nbformat_minor": 5
}
